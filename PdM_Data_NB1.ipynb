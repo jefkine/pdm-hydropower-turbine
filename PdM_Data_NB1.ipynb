{
 "cells": [
  {
   "cell_type": "markdown",
   "metadata": {},
   "source": [
    "# Predictive Mainatinance - Obtaining the Data (1 of 4)"
   ]
  },
  {
   "cell_type": "markdown",
   "metadata": {},
   "source": [
    "### Environment Setup"
   ]
  },
  {
   "cell_type": "code",
   "execution_count": 1,
   "metadata": {},
   "outputs": [],
   "source": [
    "import os"
   ]
  },
  {
   "cell_type": "markdown",
   "metadata": {},
   "source": [
    "### Overview:\n",
    "\n",
    "Businesses that use equipments to operate efficiently require a reliable uptime on these equipment. This leading to a need to predict whether an equipment might fail in the near future due to a failure of a certain component. \n",
    "\n",
    "Predictive maintenance is a proactive maintenance strategy that tries to predict when a piece of equipment might fail so that maintenance work can be performed just before equipment failure occurs saving businesses massive operational costs while achieve high asset utilization.\n",
    "\n",
    "This series of notebooks follow in the steps of implementing a predictive maintenance model found in the [Predictive Maintenance Modelling Guide](https://gallery.cortanaintelligence.com/Collection/Predictive-Maintenance-Implementation-Guide-1) collection in the [Cortana Intelligence Gallery](https://gallery.cortanaintelligence.com/).\n",
    "\n",
    "This is a Python adaptation of a [notebook](https://gallery.azure.ai/Notebook/Predictive-Maintenance-Modelling-Guide-Python-Notebook-1) originally created by [Mary Wahl](https://gallery.azure.ai/Home/Author?authorId=F617D473ACF16BEAC5242358F5BE2DF6DFCF35983A6B700F9BAE26DE20EB2F08) with notable extensions to fit the new panda, numpy APIs and some more work on the Exploratory Dataset Analysis.\n",
    " \n",
    "\n",
    "### About the Dataset\n",
    "The datasets used here are meant for predictive maintenance use case from the energy industry. The input data are simulated (and simplified) telemetry and machine log readings from a hydropower turbine.\n",
    "\n",
    "Common data sources for predictive maintenance problems are:\n",
    "\n",
    "- Failure history: The failure history of a machine or component within the machine.\n",
    "- Maintenance history: The repair history of a machine, e.g. error codes, previous maintenance activities or component replacements.\n",
    "- Machine conditions and usage: The operating conditions of a machine e.g. data collected from sensors.\n",
    "- Machine features: The features of a machine, e.g. engine size, make and model, location.\n",
    "- Operator features: The features of the operator, e.g. gender, past experience\n",
    "\n",
    "### Data Sources\n",
    "The data used in this execrcise comes from 5 different sources which are:\n",
    "\n",
    "- real-time telemetry data collected from machines\n",
    "- error messages\n",
    "- failure history\n",
    "- machine information such as type and age.\n",
    "- historical maintenance"
   ]
  },
  {
   "cell_type": "code",
   "execution_count": 2,
   "metadata": {},
   "outputs": [
    {
     "name": "stdout",
     "output_type": "stream",
     "text": [
      "--2019-05-04 07:23:06--  https://azuremlsampleexperiments.blob.core.windows.net/datasets/PdM_telemetry.csv\n",
      "Resolving azuremlsampleexperiments.blob.core.windows.net (azuremlsampleexperiments.blob.core.windows.net)... 13.65.107.32\n",
      "Connecting to azuremlsampleexperiments.blob.core.windows.net (azuremlsampleexperiments.blob.core.windows.net)|13.65.107.32|:443... connected.\n",
      "HTTP request sent, awaiting response... 200 OK\n",
      "Length: 80142329 (76M) [application/octet-stream]\n",
      "Saving to: ‘data/telemetry.csv’\n",
      "\n",
      "data/telemetry.csv  100%[===================>]  76.43M   564KB/s    in 2m 32s  \n",
      "\n",
      "2019-05-04 07:25:39 (514 KB/s) - ‘data/telemetry.csv’ saved [80142329/80142329]\n",
      "\n",
      "--2019-05-04 07:25:39--  https://azuremlsampleexperiments.blob.core.windows.net/datasets/PdM_errors.csv\n",
      "Resolving azuremlsampleexperiments.blob.core.windows.net (azuremlsampleexperiments.blob.core.windows.net)... 13.65.107.32\n",
      "Connecting to azuremlsampleexperiments.blob.core.windows.net (azuremlsampleexperiments.blob.core.windows.net)|13.65.107.32|:443... connected.\n",
      "HTTP request sent, awaiting response... 200 OK\n",
      "Length: 129077 (126K) [application/octet-stream]\n",
      "Saving to: ‘data/errors.csv’\n",
      "\n",
      "data/errors.csv     100%[===================>] 126.05K   349KB/s    in 0.4s    \n",
      "\n",
      "2019-05-04 07:25:41 (349 KB/s) - ‘data/errors.csv’ saved [129077/129077]\n",
      "\n",
      "--2019-05-04 07:25:41--  https://azuremlsampleexperiments.blob.core.windows.net/datasets/PdM_maint.csv\n",
      "Resolving azuremlsampleexperiments.blob.core.windows.net (azuremlsampleexperiments.blob.core.windows.net)... 13.65.107.32\n",
      "Connecting to azuremlsampleexperiments.blob.core.windows.net (azuremlsampleexperiments.blob.core.windows.net)|13.65.107.32|:443... connected.\n",
      "HTTP request sent, awaiting response... 200 OK\n",
      "Length: 104903 (102K) [application/octet-stream]\n",
      "Saving to: ‘data/maint.csv’\n",
      "\n",
      "data/maint.csv      100%[===================>] 102.44K   132KB/s    in 0.8s    \n",
      "\n",
      "2019-05-04 07:25:43 (132 KB/s) - ‘data/maint.csv’ saved [104903/104903]\n",
      "\n",
      "--2019-05-04 07:25:43--  https://azuremlsampleexperiments.blob.core.windows.net/datasets/PdM_failures.csv\n",
      "Resolving azuremlsampleexperiments.blob.core.windows.net (azuremlsampleexperiments.blob.core.windows.net)... 13.65.107.32\n",
      "Connecting to azuremlsampleexperiments.blob.core.windows.net (azuremlsampleexperiments.blob.core.windows.net)|13.65.107.32|:443... connected.\n",
      "HTTP request sent, awaiting response... 200 OK\n",
      "Length: 24336 (24K) [application/octet-stream]\n",
      "Saving to: ‘data/failures.csv’\n",
      "\n",
      "data/failures.csv   100%[===================>]  23.77K  --.-KB/s    in 0.1s    \n",
      "\n",
      "2019-05-04 07:25:44 (215 KB/s) - ‘data/failures.csv’ saved [24336/24336]\n",
      "\n",
      "--2019-05-04 07:25:44--  https://azuremlsampleexperiments.blob.core.windows.net/datasets/PdM_machines.csv\n",
      "Resolving azuremlsampleexperiments.blob.core.windows.net (azuremlsampleexperiments.blob.core.windows.net)... 13.65.107.32\n",
      "Connecting to azuremlsampleexperiments.blob.core.windows.net (azuremlsampleexperiments.blob.core.windows.net)|13.65.107.32|:443... connected.\n",
      "HTTP request sent, awaiting response... 200 OK\n",
      "Length: 1582 (1.5K) [application/octet-stream]\n",
      "Saving to: ‘data/machines.csv’\n",
      "\n",
      "data/machines.csv   100%[===================>]   1.54K  --.-KB/s    in 0s      \n",
      "\n",
      "2019-05-04 07:25:45 (92.0 MB/s) - ‘data/machines.csv’ saved [1582/1582]\n",
      "\n"
     ]
    }
   ],
   "source": [
    "!wget https://azuremlsampleexperiments.blob.core.windows.net/datasets/PdM_telemetry.csv -O data/telemetry.csv\n",
    "!wget https://azuremlsampleexperiments.blob.core.windows.net/datasets/PdM_errors.csv -O data/errors.csv\n",
    "!wget https://azuremlsampleexperiments.blob.core.windows.net/datasets/PdM_maint.csv -O data/maint.csv\n",
    "!wget https://azuremlsampleexperiments.blob.core.windows.net/datasets/PdM_failures.csv -O data/failures.csv\n",
    "!wget https://azuremlsampleexperiments.blob.core.windows.net/datasets/PdM_machines.csv -O data/machines.csv"
   ]
  },
  {
   "cell_type": "code",
   "execution_count": 3,
   "metadata": {},
   "outputs": [
    {
     "name": "stdout",
     "output_type": "stream",
     "text": [
      "['errors.csv', 'maint.csv', 'telemetry.csv', 'machines.csv', 'failures.csv']\n"
     ]
    }
   ],
   "source": [
    "#verify the dowloaded files\n",
    "print(os.listdir('data'))"
   ]
  },
  {
   "cell_type": "code",
   "execution_count": null,
   "metadata": {},
   "outputs": [],
   "source": []
  }
 ],
 "metadata": {
  "kernelspec": {
   "display_name": "Python 3",
   "language": "python",
   "name": "python3"
  },
  "language_info": {
   "codemirror_mode": {
    "name": "ipython",
    "version": 3
   },
   "file_extension": ".py",
   "mimetype": "text/x-python",
   "name": "python",
   "nbconvert_exporter": "python",
   "pygments_lexer": "ipython3",
   "version": "3.6.8"
  }
 },
 "nbformat": 4,
 "nbformat_minor": 2
}
